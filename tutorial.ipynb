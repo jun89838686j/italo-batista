{
 "cells": [
  {
   "cell_type": "code",
   "execution_count": 1,
   "metadata": {},
   "outputs": [],
   "source": [
    "from random import randint\n",
    "from LSH import LSH\n",
    "from TFIDF import TFIDF"
   ]
  },
  {
   "cell_type": "code",
   "execution_count": 2,
   "metadata": {},
   "outputs": [],
   "source": [
    "texto0 = \"\"\"\n",
    "As escolas de todo o Brasil hoje cedo foram surpreendidas com o fato de o ministério público ter anunciado que não haverá \n",
    "as disciplinas de português e matemática.\n",
    "\"\"\".replace('\\n', ' ')\n",
    "\n",
    "texto1 = \"\"\"\n",
    "O ministério público anunciou hoje que não haverá as disciplinas de português e matemática. Todas as escolas do Brasil \n",
    "foram surpreendidas hoje cedo com esse fato.\n",
    "\"\"\".replace('\\n', ' ')\n",
    "\n",
    "texto2 = \"\"\"\n",
    "O Globo é um jornal diário de notícias brasileiro, fundado em 29 de julho de 1925 e sediado no Rio de Janeiro. \n",
    "De circulação nacional pela assinatura mensal nas formas impressa ou digital.\n",
    "\"\"\".replace('\\n', ' ')\n",
    "\n",
    "texto3 = \"\"\"\n",
    "Nas formas impressa ou digital, O Globo é um jornal diário de notícias brasileiro e têm circulação nacional pela \n",
    "assinatura mensal. É sediado no Rio de Janeiro e foi fundado em 29 de julho de 1925.\n",
    "\"\"\".replace('\\n', ' ')\n",
    "\n",
    "texto4 = \"\"\"\n",
    "no caminho da universidade pra casa tem uma pichação escrita \"Acorda e vem me ver\".\n",
    "Metade de mim: que lindo <3\n",
    "outra metade: podre. eu msm q n acordava. era so oq me faltava... eu interromper meu sono p ver gente.\n",
    "\"\"\".replace('\\n', ' ')\n",
    "\n",
    "texto5 = \"\"\"\n",
    "No caminho da casa para a universidade eu encontrei uma pichação escrita \"Acorda e vem me ver\".\n",
    "'Que lindo!', pensei comigo mesmo. Por outro lado, eu estava... \"Podre! Nunca que eu acordava. So faltava essa... \n",
    "Interromper o sono por causa de gente.\n",
    "\"\"\".replace('\\n', ' ')\n",
    "\n",
    "textos = [texto0, texto1, texto2, texto3, texto4, texto5]"
   ]
  },
  {
   "cell_type": "code",
   "execution_count": 3,
   "metadata": {},
   "outputs": [
    {
     "name": "stdout",
     "output_type": "stream",
     "text": [
      "[nltk_data] Downloading package rslp to /home/italohmb/nltk_data...\n",
      "[nltk_data]   Package rslp is already up-to-date!\n"
     ]
    }
   ],
   "source": [
    "lsh = LSH()\n",
    "similarity = lsh.get_similarity(textos, 'pt')"
   ]
  },
  {
   "cell_type": "markdown",
   "metadata": {},
   "source": [
    "The final result is a list of lists. The similarity between texts can be found accessing this result by texts indexes. For examples, the sim between text0 and text1 is result[text0_index][text1_index], where text0_index is the index of text0 in the input list and text1_index is the index of text1 in the input list.   \n",
    "So sim between text0 and text1 is result[0][1]."
   ]
  },
  {
   "cell_type": "markdown",
   "metadata": {},
   "source": [
    "Printing the result:"
   ]
  },
  {
   "cell_type": "code",
   "execution_count": 4,
   "metadata": {},
   "outputs": [
    {
     "data": {
      "text/plain": [
       "[['--', 1.0, 0.02, 0.02, 0.02, 0.02],\n",
       " ['--', '--', 0.02, 0.02, 0.02, 0.02],\n",
       " ['--', '--', '--', 1.0, 0.02, 0.02],\n",
       " ['--', '--', '--', '--', 0.02, 0.02],\n",
       " ['--', '--', '--', '--', '--', 0.52],\n",
       " ['--', '--', '--', '--', '--', '--']]"
      ]
     },
     "execution_count": 4,
     "metadata": {},
     "output_type": "execute_result"
    }
   ],
   "source": [
    "similarity"
   ]
  },
  {
   "cell_type": "markdown",
   "metadata": {},
   "source": [
    "Printing in a more legible way:"
   ]
  },
  {
   "cell_type": "code",
   "execution_count": 5,
   "metadata": {},
   "outputs": [
    {
     "name": "stdout",
     "output_type": "stream",
     "text": [
      "        text0  text1  text2  text3  text4  text5\n",
      "        -----  -----  -----  -----  -----  -----\n",
      "text0 |        1.00   0.02   0.02   0.02   0.02\n",
      "text1 |               0.02   0.02   0.02   0.02\n",
      "text2 |                      1.00   0.02   0.02\n",
      "text3 |                             0.02   0.02\n",
      "text4 |                                    0.52\n",
      "text5 |                                        \n"
     ]
    }
   ],
   "source": [
    "def format_sim(sim):\n",
    "    if type(sim) == float:\n",
    "        formated_sim = \"{:.2f}\".format(sim)\n",
    "    elif type(sim) == str:\n",
    "        formated_sim = '    '\n",
    "    return formated_sim\n",
    "\n",
    "col_names = [\"text\" + str(i) for i in range(len(textos)) ]\n",
    "col_names = \"  \".join(col_names)\n",
    "print(\"       \", col_names)\n",
    "\n",
    "divisors = [\"-----\" for i in range(len(textos)) ]\n",
    "divisors = \"  \".join(divisors)\n",
    "print(\"       \", divisors)\n",
    "\n",
    "for i, row in enumerate(similarity):\n",
    "    row_name = \"text\" + str(i)\n",
    "    formated_sims = list(map(format_sim, row))\n",
    "    row = \"   \".join(formated_sims)\n",
    "    print(row_name, \"|\", row)"
   ]
  }
 ],
 "metadata": {
  "kernelspec": {
   "display_name": "Python 3",
   "language": "python",
   "name": "python3"
  },
  "language_info": {
   "codemirror_mode": {
    "name": "ipython",
    "version": 3
   },
   "file_extension": ".py",
   "mimetype": "text/x-python",
   "name": "python",
   "nbconvert_exporter": "python",
   "pygments_lexer": "ipython3",
   "version": "3.5.2"
  }
 },
 "nbformat": 4,
 "nbformat_minor": 2
}
